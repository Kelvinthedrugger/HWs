{
 "cells": [
  {
   "cell_type": "code",
   "execution_count": null,
   "metadata": {},
   "outputs": [],
   "source": [
    "# default_exp nnsig"
   ]
  },
  {
   "cell_type": "markdown",
   "metadata": {},
   "source": [
    "### Neural network using numpy\n",
    "#### works on cpu only if there's no pyopencl and else"
   ]
  },
  {
   "cell_type": "code",
   "execution_count": null,
   "metadata": {},
   "outputs": [],
   "source": [
    "#export\n",
    "import numpy as np"
   ]
  },
  {
   "cell_type": "markdown",
   "metadata": {},
   "source": [
    "#### fetch dataset"
   ]
  },
  {
   "cell_type": "code",
   "execution_count": null,
   "metadata": {},
   "outputs": [],
   "source": [
    "#export\n",
    "def fetch(url):\n",
    "    import requests, hashlib, os, tempfile\n",
    "    fp = os.path.join(tempfile.gettempdir(), hashlib.md5(url.encode('utf-8')).hexdigest())\n",
    "\n",
    "    if os.path.isfile(fp):\n",
    "        with open(fp, \"rb\") as f:\n",
    "            dat = f.read()\n",
    "    \n",
    "    else:\n",
    "        dat = requests.get(url).content\n",
    "        with open(fp + \".tmp\", \"wb\") as f:\n",
    "            f.write(dat)\n",
    "        \n",
    "        os.rename(fp+\".tmp\", fp)\n",
    "    \n",
    "    return dat"
   ]
  },
  {
   "cell_type": "code",
   "execution_count": null,
   "metadata": {},
   "outputs": [],
   "source": [
    "#export\n",
    "def mnist(url1=\"http://yann.lecun.com/exdb/mnist/train-images-idx3-ubyte.gz\", url2=\"http://yann.lecun.com/exdb/mnist/train-labels-idx1-ubyte.gz\", url3=\"http://yann.lecun.com/exdb/mnist/t10k-images-idx3-ubyte.gz\", url4=\"http://yann.lecun.com/exdb/mnist/t10k-labels-idx1-ubyte.gz\"):\n",
    "    # from geohot\n",
    "    import gzip\n",
    "    import numpy as np\n",
    "\n",
    "    def parse(dat): return np.frombuffer(\n",
    "        gzip.decompress(dat), dtype=np.uint8).copy()\n",
    "\n",
    "    X_train = parse(fetch(url1))[0x10:].reshape((-1, 28, 28))\n",
    "    Y_train = parse(fetch(url2))[8:]\n",
    "    X_test = parse(fetch(url3))[0x10:].reshape((-1, 28, 28))\n",
    "    Y_test = parse(fetch(url4))[8:]\n",
    "    return X_train, Y_train, X_test, Y_test\n"
   ]
  },
  {
   "cell_type": "markdown",
   "metadata": {},
   "source": [
    "#### import mnist dataset"
   ]
  },
  {
   "cell_type": "code",
   "execution_count": null,
   "metadata": {},
   "outputs": [
    {
     "data": {
      "text/plain": [
       "(60000, 28, 28)"
      ]
     },
     "execution_count": null,
     "metadata": {},
     "output_type": "execute_result"
    }
   ],
   "source": [
    "x_train,y_train,x_test,y_test = mnist()\n",
    "x_train.shape"
   ]
  },
  {
   "cell_type": "markdown",
   "metadata": {},
   "source": [
    "#### utils function"
   ]
  },
  {
   "cell_type": "code",
   "execution_count": null,
   "metadata": {},
   "outputs": [],
   "source": [
    "#export \n",
    "# inits\n",
    "def kaiming_uniform(h,w):\n",
    "    return np.random.uniform(-1.,1.,size=(h,w))/np.sqrt(h*w)\n",
    "\n",
    "def kaiming_normal(h,w):\n",
    "    return "
   ]
  },
  {
   "cell_type": "markdown",
   "metadata": {},
   "source": [
    "#### build the layers"
   ]
  },
  {
   "cell_type": "code",
   "execution_count": null,
   "metadata": {},
   "outputs": [],
   "source": [
    "# export\n",
    "class Linear:\n",
    "    def __init__(self,h,w,init_fn = kaiming_uniform):\n",
    "        self.weight = init_fn(h,w)\n",
    "        self.grad = np.zeros((h,w))\n",
    "        self.fpass = None\n",
    "    \n",
    "    def forward(self,x):\n",
    "        out = x @ self.weight\n",
    "        self.fpass = x\n",
    "        return out\n",
    "    \n",
    "    def backward(self,bpass):\n",
    "        self.grad = (self.fpass.T) @ bpass\n",
    "        bpass = bpass @ (self.weight.T)"
   ]
  },
  {
   "cell_type": "code",
   "execution_count": null,
   "metadata": {},
   "outputs": [
    {
     "data": {
      "text/plain": [
       "(array([ 0.00214358, -0.00055746,  0.00197016,  0.00256673, -0.00179447]),\n",
       " (784, 128),\n",
       " (1, 128))"
      ]
     },
     "execution_count": null,
     "metadata": {},
     "output_type": "execute_result"
    }
   ],
   "source": [
    "one = Linear(784,128)\n",
    "one.weight[0,:5], one.weight.shape, one.forward(x_train[0:1].reshape(1,-1)).shape"
   ]
  },
  {
   "cell_type": "code",
   "execution_count": null,
   "metadata": {},
   "outputs": [
    {
     "data": {
      "text/plain": [
       "((1, 784), (784, 128))"
      ]
     },
     "execution_count": null,
     "metadata": {},
     "output_type": "execute_result"
    }
   ],
   "source": [
    "one.fpass.shape, one.grad.shape"
   ]
  },
  {
   "cell_type": "markdown",
   "metadata": {},
   "source": [
    "#### Loss functions"
   ]
  },
  {
   "cell_type": "code",
   "execution_count": null,
   "metadata": {},
   "outputs": [],
   "source": [
    "# export \n",
    "def MSELoss(yhat,y,num_class=10,supervised=True):\n",
    "    if supervised:\n",
    "        label = np.zeros((len(y), num_class), dtype=np.float32)\n",
    "        label[range(label.shape[0]), y] = 1\n",
    "        y = label\n",
    "    val = np.square(yhat - y).mean(axis=0)\n",
    "    grad = 2 * (yhat - y) / len(yhat)\n",
    "    return val, grad\n",
    "\n",
    "def CELoss(yhat,y):\n",
    "    \"\"\" cross entropy loss\"\"\"\n",
    "    return"
   ]
  },
  {
   "cell_type": "code",
   "execution_count": null,
   "metadata": {},
   "outputs": [
    {
     "data": {
      "text/plain": [
       "(array([2., 3.]), array([1.5, 3.5]), array([1.5, 3.5]))"
      ]
     },
     "execution_count": null,
     "metadata": {},
     "output_type": "execute_result"
    }
   ],
   "source": [
    "a = np.array([[1,2],[3,4]])\n",
    "a.mean(axis=0), a.mean(axis=1), a.mean(axis=-1)"
   ]
  },
  {
   "cell_type": "markdown",
   "metadata": {},
   "source": [
    "### Optimizer "
   ]
  },
  {
   "cell_type": "code",
   "execution_count": null,
   "metadata": {},
   "outputs": [],
   "source": [
    "# export\n",
    "def SGD(lr = 1e-3, model = None):\n",
    "    for layer in model:\n",
    "        layer.weight -= lr * layer.grad\n",
    "\n",
    "def Adam():\n",
    "    pass"
   ]
  },
  {
   "cell_type": "markdown",
   "metadata": {},
   "source": [
    "### Build Sequential model class ?"
   ]
  },
  {
   "cell_type": "code",
   "execution_count": null,
   "metadata": {},
   "outputs": [],
   "source": [
    "# export\n",
    "class Sequential:\n",
    "    # learn **kwargs\n",
    "    def __init__(self,layers,lossfn,opt_fn):\n",
    "        if not isinstance(layers,list):\n",
    "            self.model = [layers]\n",
    "        else:\n",
    "            self.model = layers\n",
    "        \n",
    "        self.lossfn = lossfn\n",
    "        self.opt_fn = opt_fn\n",
    "    \n",
    "    # check arguments when it comes to validation\n",
    "    def forward(self,x):\n",
    "        out = self.model[0].forward(x)\n",
    "        for layer in self.model[1:]:\n",
    "            out = layer.forward(out)\n",
    "        return out\n",
    "\n",
    "    def backward(self,grad):\n",
    "        for layer in reversed(self.model):\n",
    "            # check if grad = grad @ (weight.T) works\n",
    "            layer.backward(grad)\n",
    "            grad = grad @ (layer.weight.T)\n",
    "\n",
    "    def fit(self,x,y,epoch=1,batch_size=64,x_test=None,y_test=None):\n",
    "        # loop thru len//bs\n",
    "        losses = []\n",
    "        ln = len(x)\n",
    "        for _ in range(ln//batch_size):\n",
    "            losses += self.fit_one_batch(x,y,epoch,batch_size,x_test,y_test)\n",
    "        return losses\n",
    "\n",
    "    def fit_one_batch(self,x,y,epoch=1,batch_size=64,x_test=None,y_test=None):\n",
    "        # loop thru len//bs\n",
    "        losses = []\n",
    "        ln = len(x)\n",
    "        for _ in range(epoch):\n",
    "            idx = np.random.randint(0,ln,size=batch_size)\n",
    "            x_ = x[idx].reshape((-1,28*28))\n",
    "            y_ = y[idx]\n",
    "            out = self.forward(x_)\n",
    "\n",
    "            loss, grad = self.lossfn(out,y_)\n",
    "            self.backward(grad)\n",
    "            self.opt_fn(lr=1e-5, model=self.model)\n",
    "\n",
    "            losses.append(loss.mean())\n",
    "        \n",
    "        return losses        \n"
   ]
  },
  {
   "cell_type": "code",
   "execution_count": null,
   "metadata": {},
   "outputs": [
    {
     "data": {
      "text/plain": [
       "array([[0., 0., 0., 0., 0., 1., 0., 0., 0., 0.],\n",
       "       [1., 0., 0., 0., 0., 0., 0., 0., 0., 0.],\n",
       "       [0., 0., 0., 0., 1., 0., 0., 0., 0., 0.],\n",
       "       [0., 1., 0., 0., 0., 0., 0., 0., 0., 0.],\n",
       "       [0., 0., 0., 0., 0., 0., 0., 0., 0., 1.],\n",
       "       [0., 0., 1., 0., 0., 0., 0., 0., 0., 0.],\n",
       "       [0., 1., 0., 0., 0., 0., 0., 0., 0., 0.],\n",
       "       [0., 0., 0., 1., 0., 0., 0., 0., 0., 0.],\n",
       "       [0., 1., 0., 0., 0., 0., 0., 0., 0., 0.],\n",
       "       [0., 0., 0., 0., 1., 0., 0., 0., 0., 0.]], dtype=float32)"
      ]
     },
     "execution_count": null,
     "metadata": {},
     "output_type": "execute_result"
    }
   ],
   "source": [
    "y1 = y_train[:10]\n",
    "\n",
    "label = np.zeros((len(y1), 10), dtype=np.float32)\n",
    "label[range(label.shape[0]), y1] = 1\n",
    "y1 = label\n",
    "y1"
   ]
  },
  {
   "cell_type": "code",
   "execution_count": null,
   "metadata": {},
   "outputs": [
    {
     "name": "stdout",
     "output_type": "stream",
     "text": [
      "5 5\n",
      "0 0\n",
      "4 4\n",
      "1 1\n",
      "9 9\n",
      "2 2\n",
      "1 1\n",
      "3 3\n",
      "1 1\n",
      "4 4\n"
     ]
    }
   ],
   "source": [
    "for i in range(10):\n",
    "    print(y1[i].argmax(),y_train[i])"
   ]
  },
  {
   "cell_type": "code",
   "execution_count": null,
   "metadata": {},
   "outputs": [],
   "source": [
    "# train for a epoch here\n",
    "model = Sequential([Linear(784,128),Linear(128,10)],MSELoss,SGD)"
   ]
  },
  {
   "cell_type": "code",
   "execution_count": null,
   "metadata": {},
   "outputs": [],
   "source": [
    "losses = model.fit(x_train,y_train,epoch=2)"
   ]
  },
  {
   "cell_type": "code",
   "execution_count": null,
   "metadata": {},
   "outputs": [
    {
     "data": {
      "image/png": "[encoded data removed]",
      "text/plain": [
       "<Figure size 432x288 with 1 Axes>"
      ]
     },
     "metadata": {
      "needs_background": "light"
     },
     "output_type": "display_data"
    }
   ],
   "source": [
    "from matplotlib import pyplot as plt\n",
    "plt.plot(list(range(len(losses))),losses)\n",
    "plt.show()"
   ]
  },
  {
   "cell_type": "code",
   "execution_count": null,
   "metadata": {},
   "outputs": [
    {
     "name": "stdout",
     "output_type": "stream",
     "text": [
      "7 [7]\n",
      "2 [2]\n",
      "1 [1]\n",
      "0 [0]\n",
      "4 [4]\n",
      "1 [1]\n",
      "4 [4]\n",
      "9 [9]\n",
      "4 [5]\n",
      "7 [9]\n"
     ]
    }
   ],
   "source": [
    "\"\"\" It's correct now \"\"\"\n",
    "for i in range(10):\n",
    "    print(np.argmax(model.forward(x_test[i:i+1].reshape((-1,28*28)))), y_test[i:i+1])"
   ]
  },
  {
   "cell_type": "markdown",
   "metadata": {},
   "source": [
    "### Experiment below"
   ]
  },
  {
   "cell_type": "code",
   "execution_count": null,
   "metadata": {},
   "outputs": [],
   "source": []
  },
  {
   "cell_type": "markdown",
   "metadata": {},
   "source": [
    "#### Rebuild everything from a lower level\n",
    "#### e.g. a tensor for layers to inherit from that handles backprop"
   ]
  },
  {
   "cell_type": "code",
   "execution_count": null,
   "metadata": {},
   "outputs": [],
   "source": []
  },
  {
   "cell_type": "markdown",
   "metadata": {},
   "source": [
    "### Export"
   ]
  },
  {
   "cell_type": "code",
   "execution_count": null,
   "metadata": {},
   "outputs": [
    {
     "name": "stdout",
     "output_type": "stream",
     "text": [
      "Converted 00_core.ipynb.\n",
      "Converted 01_oval_clean.ipynb.\n",
      "Converted 02_NN.ipynb.\n",
      "Converted 03_NN_numpy.ipynb.\n",
      "Converted index.ipynb.\n"
     ]
    }
   ],
   "source": [
    "from nbdev.export import notebook2script\n",
    "notebook2script()"
   ]
  },
  {
   "cell_type": "code",
   "execution_count": null,
   "metadata": {},
   "outputs": [],
   "source": []
  }
 ],
 "metadata": {
  "kernelspec": {
   "display_name": "Python 3.7.9 64-bit",
   "language": "python",
   "name": "python3"
  }
 },
 "nbformat": 4,
 "nbformat_minor": 2
}
