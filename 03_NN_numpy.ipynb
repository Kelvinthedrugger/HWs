{
 "cells": [
  {
   "cell_type": "code",
   "execution_count": null,
   "metadata": {},
   "outputs": [],
   "source": [
    "# default_exp nnsig"
   ]
  },
  {
   "cell_type": "markdown",
   "metadata": {},
   "source": [
    "### Neural network using numpy\n",
    "#### works on cpu only if there's no pyopencl and else"
   ]
  },
  {
   "cell_type": "code",
   "execution_count": null,
   "metadata": {},
   "outputs": [],
   "source": [
    "#export\n",
    "import numpy as np"
   ]
  },
  {
   "cell_type": "markdown",
   "metadata": {},
   "source": [
    "#### fetch dataset"
   ]
  },
  {
   "cell_type": "code",
   "execution_count": null,
   "metadata": {},
   "outputs": [],
   "source": [
    "#export\n",
    "def fetch(url):\n",
    "    import requests, hashlib, os, tempfile\n",
    "    fp = os.path.join(tempfile.gettempdir(), hashlib.md5(url.encode('utf-8')).hexdigest())\n",
    "\n",
    "    if os.path.isfile(fp):\n",
    "        with open(fp, \"rb\") as f:\n",
    "            dat = f.read()\n",
    "    \n",
    "    else:\n",
    "        dat = requests.get(url).content\n",
    "        with open(fp + \".tmp\", \"wb\") as f:\n",
    "            f.write(dat)\n",
    "        \n",
    "        os.rename(fp+\".tmp\", fp)\n",
    "    \n",
    "    return dat"
   ]
  },
  {
   "cell_type": "code",
   "execution_count": null,
   "metadata": {},
   "outputs": [],
   "source": [
    "#export\n",
    "def mnist(url1=\"http://yann.lecun.com/exdb/mnist/train-images-idx3-ubyte.gz\", url2=\"http://yann.lecun.com/exdb/mnist/train-labels-idx1-ubyte.gz\", url3=\"http://yann.lecun.com/exdb/mnist/t10k-images-idx3-ubyte.gz\", url4=\"http://yann.lecun.com/exdb/mnist/t10k-labels-idx1-ubyte.gz\"):\n",
    "    # from geohot\n",
    "    import gzip\n",
    "    import numpy as np\n",
    "\n",
    "    def parse(dat): return np.frombuffer(\n",
    "        gzip.decompress(dat), dtype=np.uint8).copy()\n",
    "\n",
    "    X_train = parse(fetch(url1))[0x10:].reshape((-1, 28, 28))\n",
    "    Y_train = parse(fetch(url2))[8:]\n",
    "    X_test = parse(fetch(url3))[0x10:].reshape((-1, 28, 28))\n",
    "    Y_test = parse(fetch(url4))[8:]\n",
    "    return X_train, Y_train, X_test, Y_test\n"
   ]
  },
  {
   "cell_type": "markdown",
   "metadata": {},
   "source": [
    "#### import mnist dataset"
   ]
  },
  {
   "cell_type": "code",
   "execution_count": null,
   "metadata": {},
   "outputs": [
    {
     "data": {
      "text/plain": [
       "(60000, 28, 28)"
      ]
     },
     "execution_count": null,
     "metadata": {},
     "output_type": "execute_result"
    }
   ],
   "source": [
    "x_train,y_train,x_test,y_test = mnist()\n",
    "x_train.shape"
   ]
  },
  {
   "cell_type": "code",
   "execution_count": null,
   "metadata": {},
   "outputs": [
    {
     "data": {
      "image/png": "[encoded data removed]",
      "text/plain": [
       "<Figure size 432x288 with 1 Axes>"
      ]
     },
     "metadata": {
      "needs_background": "light"
     },
     "output_type": "display_data"
    }
   ],
   "source": [
    "from matplotlib import pyplot as plt\n",
    "\n",
    "plt.imshow(x_train[0])\n",
    "plt.show()"
   ]
  },
  {
   "cell_type": "markdown",
   "metadata": {},
   "source": [
    "### Should set type to float32 / 16 ?"
   ]
  },
  {
   "cell_type": "markdown",
   "metadata": {},
   "source": [
    "#### utils function"
   ]
  },
  {
   "cell_type": "code",
   "execution_count": null,
   "metadata": {},
   "outputs": [],
   "source": [
    "#export \n",
    "# inits\n",
    "# add \"t\" dimension for convolution, not tested\n",
    "def kaiming_uniform(h,w,t=None):\n",
    "    if t is None:\n",
    "        return np.random.uniform(-1.,1.,size=(h,w))/np.sqrt(h*w)\n",
    "    else:\n",
    "        return np.random.uniform(-1.,1.,size=(h,w,t))/np.sqrt(h*w)\n",
    "\n",
    "# ref to pytorch to see how gain is calculated\n",
    "# not tested\n",
    "def kaiming_normal(h,w,gain=1):\n",
    "    return np.random.randn(h,w)/np.sqrt(2./h)*gain"
   ]
  },
  {
   "cell_type": "code",
   "execution_count": null,
   "metadata": {},
   "outputs": [
    {
     "data": {
      "text/plain": [
       "array([[[-0.21228465,  0.24765315, -0.25268094],\n",
       "        [-0.23144798, -0.04920292,  0.17055164]],\n",
       "\n",
       "       [[-0.13963562, -0.2088165 ,  0.37593109],\n",
       "        [ 0.38059491,  0.26098882,  0.02037893]],\n",
       "\n",
       "       [[-0.03300621,  0.11673715, -0.06747579],\n",
       "        [ 0.37649997,  0.3338308 , -0.01365257]],\n",
       "\n",
       "       [[ 0.09447013, -0.03462322, -0.23229127],\n",
       "        [ 0.40166175, -0.15867257,  0.31534735]]])"
      ]
     },
     "execution_count": null,
     "metadata": {},
     "output_type": "execute_result"
    }
   ],
   "source": [
    "kaiming_uniform(2,3,4)"
   ]
  },
  {
   "cell_type": "code",
   "execution_count": null,
   "metadata": {},
   "outputs": [
    {
     "data": {
      "text/plain": [
       "(array([2., 3.]), array([1.5, 3.5]))"
      ]
     },
     "execution_count": null,
     "metadata": {},
     "output_type": "execute_result"
    }
   ],
   "source": [
    "x = np.array([[1,2],[3,4]])\n",
    "x.mean(axis=0), x.mean(axis=1)"
   ]
  },
  {
   "cell_type": "code",
   "execution_count": null,
   "metadata": {},
   "outputs": [],
   "source": [
    "# export \n",
    "def stat(x):\n",
    "    \"\"\" get standard deviation and mean of matrix x\"\"\"\n",
    "    avg = x.mean()\n",
    "    std = np.square(x - avg).mean()\n",
    "    return avg, std"
   ]
  },
  {
   "cell_type": "code",
   "execution_count": null,
   "metadata": {},
   "outputs": [
    {
     "data": {
      "text/plain": [
       "(2.5, 1.25)"
      ]
     },
     "execution_count": null,
     "metadata": {},
     "output_type": "execute_result"
    }
   ],
   "source": [
    "stat(x)"
   ]
  },
  {
   "cell_type": "code",
   "execution_count": null,
   "metadata": {},
   "outputs": [
    {
     "data": {
      "text/plain": [
       "(array([[[1, 2],\n",
       "         [3, 4]]]),\n",
       " array([[1, 2],\n",
       "        [3, 4]]))"
      ]
     },
     "execution_count": null,
     "metadata": {},
     "output_type": "execute_result"
    }
   ],
   "source": [
    "x[None], x"
   ]
  },
  {
   "cell_type": "code",
   "execution_count": null,
   "metadata": {},
   "outputs": [],
   "source": [
    "# see if std of init weight = 1 ?\n"
   ]
  },
  {
   "cell_type": "markdown",
   "metadata": {},
   "source": [
    "## Try to add __ repr __ and dict \n",
    "#### To store the layers and therefore more customizable, also, enable to save the weights much more convenient\n",
    "#### "
   ]
  },
  {
   "cell_type": "markdown",
   "metadata": {},
   "source": [
    "### Build the layers"
   ]
  },
  {
   "cell_type": "code",
   "execution_count": null,
   "metadata": {},
   "outputs": [],
   "source": [
    "# export\n",
    "class Linear:\n",
    "    def __init__(self,h,w,init_fn = kaiming_uniform):\n",
    "        self.weight = init_fn(h,w)\n",
    "        self.grad = np.zeros((h,w))\n",
    "        self.fpass = None\n",
    "    \n",
    "    def forward(self,x):\n",
    "        out = x @ self.weight\n",
    "        self.fpass = x\n",
    "        return out\n",
    "    \n",
    "    def backward(self,bpass):\n",
    "        self.grad = (self.fpass.T) @ bpass\n",
    "        # without returning it, it doesn't work\n",
    "        # bpass = bpass @ (self.weight.T)"
   ]
  },
  {
   "cell_type": "code",
   "execution_count": null,
   "metadata": {},
   "outputs": [
    {
     "data": {
      "text/plain": [
       "(array([ 0.00153528,  0.00014511,  0.00023883, -0.00245906, -0.00111359]),\n",
       " (784, 128),\n",
       " (1, 128))"
      ]
     },
     "execution_count": null,
     "metadata": {},
     "output_type": "execute_result"
    }
   ],
   "source": [
    "one = Linear(784,128)\n",
    "one.weight[0,:5], one.weight.shape, one.forward(x_train[0:1].reshape(1,-1)).shape"
   ]
  },
  {
   "cell_type": "code",
   "execution_count": null,
   "metadata": {},
   "outputs": [
    {
     "data": {
      "text/plain": [
       "((1, 784), (784, 128))"
      ]
     },
     "execution_count": null,
     "metadata": {},
     "output_type": "execute_result"
    }
   ],
   "source": [
    "one.fpass.shape, one.grad.shape"
   ]
  },
  {
   "cell_type": "markdown",
   "metadata": {},
   "source": [
    "#### Loss functions"
   ]
  },
  {
   "cell_type": "code",
   "execution_count": null,
   "metadata": {},
   "outputs": [],
   "source": [
    "# export \n",
    "def MSELoss(yhat,y,num_class=10,supervised=True):\n",
    "    if supervised:\n",
    "        label = np.zeros((len(y), num_class), dtype=np.float32)\n",
    "        label[range(label.shape[0]), y] = 1\n",
    "        y = label\n",
    "    val = np.square(yhat - y).mean(axis=0)\n",
    "    grad = 2 * (yhat - y) / len(yhat)\n",
    "    return val, grad\n",
    "\n",
    "# can be achieved via NNL_Loss and softmax\n",
    "def NNL():\n",
    "    \"\"\" negative log likelihood \"\"\"\n",
    "    return\n",
    "\n",
    "def CELoss(yhat,y):\n",
    "    \"\"\" cross entropy loss\"\"\"\n",
    "    return"
   ]
  },
  {
   "cell_type": "code",
   "execution_count": null,
   "metadata": {},
   "outputs": [
    {
     "data": {
      "text/plain": [
       "(array([2., 3.]), array([1.5, 3.5]), array([1.5, 3.5]))"
      ]
     },
     "execution_count": null,
     "metadata": {},
     "output_type": "execute_result"
    }
   ],
   "source": [
    "a = np.array([[1,2],[3,4]])\n",
    "a.mean(axis=0), a.mean(axis=1), a.mean(axis=-1)"
   ]
  },
  {
   "cell_type": "markdown",
   "metadata": {},
   "source": [
    "### Optimizer "
   ]
  },
  {
   "cell_type": "code",
   "execution_count": null,
   "metadata": {},
   "outputs": [],
   "source": [
    "# export\n",
    "def SGD(lr = 1e-3, model = None):\n",
    "    for layer in model:\n",
    "        layer.weight -= lr * layer.grad\n",
    "\n",
    "def Adam():\n",
    "    pass"
   ]
  },
  {
   "cell_type": "markdown",
   "metadata": {},
   "source": [
    "### Build Sequential model class ?"
   ]
  },
  {
   "cell_type": "code",
   "execution_count": null,
   "metadata": {},
   "outputs": [],
   "source": [
    "# export\n",
    "class Sequential:\n",
    "    # learn **kwargs\n",
    "    def __init__(self,layers,lossfn,opt_fn):\n",
    "        if not isinstance(layers,list):\n",
    "            self.model = [layers]\n",
    "        else:\n",
    "            self.model = layers\n",
    "        \n",
    "        self.lossfn = lossfn\n",
    "        self.opt_fn = opt_fn\n",
    "    \n",
    "    # check arguments when it comes to validation\n",
    "    def forward(self,x):\n",
    "        out = self.model[0].forward(x)\n",
    "        for layer in self.model[1:]:\n",
    "            out = layer.forward(out)\n",
    "        return out\n",
    "\n",
    "    def backward(self,grad):\n",
    "        for layer in reversed(self.model):\n",
    "            layer.backward(grad)\n",
    "            grad = grad @ (layer.weight.T)\n",
    "\n",
    "    def fit(self,x,y,epoch=1,batch_size=64,x_test=None,y_test=None):\n",
    "        # loop thru len//bs\n",
    "        losses = []\n",
    "        ln = len(x)\n",
    "        for _ in range(ln//batch_size):\n",
    "            losses += self.fit_one_batch(x,y,epoch,batch_size,x_test,y_test)\n",
    "        return losses\n",
    "\n",
    "    def fit_one_batch(self,x,y,epoch=1,batch_size=64,x_test=None,y_test=None):\n",
    "        # loop thru len//bs\n",
    "        losses = []\n",
    "        ln = len(x)\n",
    "        for _ in range(epoch):\n",
    "            idx = np.random.randint(0,ln,size=batch_size)\n",
    "            x_ = x[idx].reshape((-1,28*28))\n",
    "            y_ = y[idx]\n",
    "            out = self.forward(x_)\n",
    "\n",
    "            loss, grad = self.lossfn(out,y_)\n",
    "            self.backward(grad)\n",
    "            self.opt_fn(lr=1e-5, model=self.model)\n",
    "\n",
    "            losses.append(loss.mean())\n",
    "        \n",
    "        return losses        \n"
   ]
  },
  {
   "cell_type": "code",
   "execution_count": null,
   "metadata": {},
   "outputs": [],
   "source": [
    "# train for a epoch here\n",
    "model = Sequential([Linear(784,128),Linear(128,10)],MSELoss,SGD)"
   ]
  },
  {
   "cell_type": "code",
   "execution_count": null,
   "metadata": {},
   "outputs": [],
   "source": [
    "losses = model.fit(x_train,y_train,epoch=2)"
   ]
  },
  {
   "cell_type": "code",
   "execution_count": null,
   "metadata": {},
   "outputs": [
    {
     "data": {
      "image/png": "[encoded data removed]",
      "text/plain": [
       "<Figure size 432x288 with 1 Axes>"
      ]
     },
     "metadata": {
      "needs_background": "light"
     },
     "output_type": "display_data"
    },
    {
     "data": {
      "text/plain": [
       "0.04187458886272651"
      ]
     },
     "execution_count": null,
     "metadata": {},
     "output_type": "execute_result"
    }
   ],
   "source": [
    "from matplotlib import pyplot as plt\n",
    "plt.plot(list(range(len(losses))),losses)\n",
    "plt.show()\n",
    "losses[-1]"
   ]
  },
  {
   "cell_type": "code",
   "execution_count": null,
   "metadata": {},
   "outputs": [
    {
     "name": "stdout",
     "output_type": "stream",
     "text": [
      "7 7\n",
      "2 2\n",
      "1 1\n",
      "0 0\n",
      "4 4\n",
      "1 1\n",
      "4 4\n",
      "9 9\n",
      "5 5\n",
      "9 9\n"
     ]
    }
   ],
   "source": [
    "\"\"\" It's correct now \"\"\"\n",
    "for i in range(10):\n",
    "    print(np.argmax(model.forward(x_test[i:i+1].reshape((-1,28*28)))), y_test[i])"
   ]
  },
  {
   "cell_type": "code",
   "execution_count": null,
   "metadata": {},
   "outputs": [
    {
     "name": "stdout",
     "output_type": "stream",
     "text": [
      "accuracy is: 0.8298\n"
     ]
    }
   ],
   "source": [
    "# add accuracy first\n",
    "# test passed, can add to model class\n",
    "acc = 0\n",
    "bs = 256\n",
    "\n",
    "for i in range(0,x_test.shape[0],bs):\n",
    "    acc += int((np.argmax(model.forward(x_test[i:i+bs].reshape((-1,28*28))),axis=-1) == y_test[i:i+bs]).sum())\n",
    "\n",
    "\n",
    "print(\"accuracy is: %.4f\" % (acc/(x_test.shape[0])))"
   ]
  },
  {
   "cell_type": "markdown",
   "metadata": {},
   "source": [
    "## Shape: following NHWC"
   ]
  },
  {
   "cell_type": "markdown",
   "metadata": {},
   "source": [
    "### Conv Layer"
   ]
  },
  {
   "cell_type": "markdown",
   "metadata": {},
   "source": [
    "#### Check docs to see if there's is a different way to calculated gradient"
   ]
  },
  {
   "cell_type": "code",
   "execution_count": null,
   "metadata": {},
   "outputs": [],
   "source": [
    "# export\n",
    "# not tested\n",
    "class Conv:\n",
    "    def __init__(self,filters,kernelsize,padding=0,init_fn=kaiming_uniform):\n",
    "        self.weight = np.zeros((kernelsize,kernelsize,filters))\n",
    "        for f in self.weight:\n",
    "            f = init_fn(kernelsize,kernelsize)\n",
    "        self.grad = np.zeros((kernelsize,kernelsize,filter))\n",
    "        self.fpass = None\n",
    "\n",
    "    def forward(self,x):\n",
    "        # take advantage of einsum for speed and simplicity\n",
    "        # assume x.shape[0] == x.shape[1]\n",
    "        # ...\n",
    "        return\n",
    "\n",
    "    def backward(self,grad):\n",
    "        # transpose weight to calculate gradient ?\n",
    "        return "
   ]
  },
  {
   "cell_type": "code",
   "execution_count": null,
   "metadata": {},
   "outputs": [],
   "source": [
    "#export\n",
    "# naive function of convolution\n",
    "def naive(f,x,st=2,ks=3):\n",
    "    out = np.zeros((((x.shape[0]-ks)//st+1),((x.shape[1]-ks)//st+1)))\n",
    "    for i in range(0,x.shape[0]-1,st):\n",
    "        for j in range(0,x.shape[1]-1,st):\n",
    "            # for debug\n",
    "            # print(i,\":\",i+ks,\"->\",j,\":\",j+ks)\n",
    "            # print(x[i:i+ks,j:j+ks])\n",
    "            out[i//st,j//st] = np.multiply(f,x[i:i+ks,j:j+ks]).sum()\n",
    "    \n",
    "    return out\n"
   ]
  },
  {
   "cell_type": "code",
   "execution_count": null,
   "metadata": {},
   "outputs": [
    {
     "data": {
      "text/plain": [
       "array([[ 420.,  492.,  564.],\n",
       "       [ 924.,  996., 1068.],\n",
       "       [1428., 1500., 1572.]])"
      ]
     },
     "execution_count": null,
     "metadata": {},
     "output_type": "execute_result"
    }
   ],
   "source": [
    "naive(np.arange(9).reshape(3,3),np.arange(49).reshape(7,7))"
   ]
  },
  {
   "cell_type": "code",
   "execution_count": null,
   "metadata": {},
   "outputs": [
    {
     "data": {
      "text/plain": [
       "array([[[ 0.39058222,  0.18491766,  0.13830087, -0.04529738],\n",
       "        [-0.03482665,  0.03254154,  0.31465065,  0.06296997],\n",
       "        [ 0.32808985, -0.18557862, -0.26931552, -0.13938602]],\n",
       "\n",
       "       [[-0.40336544,  0.25818678, -0.37907686,  0.27400924],\n",
       "        [ 0.14740548, -0.20692777, -0.17849737,  0.11288561],\n",
       "        [-0.19688597, -0.30216794, -0.05407491,  0.34517729]]])"
      ]
     },
     "execution_count": null,
     "metadata": {},
     "output_type": "execute_result"
    }
   ],
   "source": [
    "kaiming_uniform(2,3,4)"
   ]
  },
  {
   "cell_type": "code",
   "execution_count": null,
   "metadata": {},
   "outputs": [
    {
     "name": "stdout",
     "output_type": "stream",
     "text": [
      "\u001b[1;31mSignature:\u001b[0m \u001b[0mkaiming_uniform\u001b[0m\u001b[1;33m(\u001b[0m\u001b[0mh\u001b[0m\u001b[1;33m,\u001b[0m \u001b[0mw\u001b[0m\u001b[1;33m,\u001b[0m \u001b[0mt\u001b[0m\u001b[1;33m=\u001b[0m\u001b[1;32mNone\u001b[0m\u001b[1;33m)\u001b[0m\u001b[1;33m\u001b[0m\u001b[1;33m\u001b[0m\u001b[0m\n",
      "\u001b[1;31mDocstring:\u001b[0m <no docstring>\n",
      "\u001b[1;31mSource:\u001b[0m   \n",
      "\u001b[1;32mdef\u001b[0m \u001b[0mkaiming_uniform\u001b[0m\u001b[1;33m(\u001b[0m\u001b[0mh\u001b[0m\u001b[1;33m,\u001b[0m\u001b[0mw\u001b[0m\u001b[1;33m,\u001b[0m\u001b[0mt\u001b[0m\u001b[1;33m=\u001b[0m\u001b[1;32mNone\u001b[0m\u001b[1;33m)\u001b[0m\u001b[1;33m:\u001b[0m\u001b[1;33m\n",
      "\u001b[0m    \u001b[1;32mif\u001b[0m \u001b[0mt\u001b[0m \u001b[1;32mis\u001b[0m \u001b[1;32mNone\u001b[0m\u001b[1;33m:\u001b[0m\u001b[1;33m\n",
      "\u001b[0m        \u001b[1;32mreturn\u001b[0m \u001b[0mnp\u001b[0m\u001b[1;33m.\u001b[0m\u001b[0mrandom\u001b[0m\u001b[1;33m.\u001b[0m\u001b[0muniform\u001b[0m\u001b[1;33m(\u001b[0m\u001b[1;33m-\u001b[0m\u001b[1;36m1.\u001b[0m\u001b[1;33m,\u001b[0m\u001b[1;36m1.\u001b[0m\u001b[1;33m,\u001b[0m\u001b[0msize\u001b[0m\u001b[1;33m=\u001b[0m\u001b[1;33m(\u001b[0m\u001b[0mh\u001b[0m\u001b[1;33m,\u001b[0m\u001b[0mw\u001b[0m\u001b[1;33m)\u001b[0m\u001b[1;33m)\u001b[0m\u001b[1;33m/\u001b[0m\u001b[0mnp\u001b[0m\u001b[1;33m.\u001b[0m\u001b[0msqrt\u001b[0m\u001b[1;33m(\u001b[0m\u001b[0mh\u001b[0m\u001b[1;33m*\u001b[0m\u001b[0mw\u001b[0m\u001b[1;33m)\u001b[0m\u001b[1;33m\n",
      "\u001b[0m    \u001b[1;32melse\u001b[0m\u001b[1;33m:\u001b[0m\u001b[1;33m\n",
      "\u001b[0m        \u001b[1;32mreturn\u001b[0m \u001b[0mnp\u001b[0m\u001b[1;33m.\u001b[0m\u001b[0mrandom\u001b[0m\u001b[1;33m.\u001b[0m\u001b[0muniform\u001b[0m\u001b[1;33m(\u001b[0m\u001b[1;33m-\u001b[0m\u001b[1;36m1.\u001b[0m\u001b[1;33m,\u001b[0m\u001b[1;36m1.\u001b[0m\u001b[1;33m,\u001b[0m\u001b[0msize\u001b[0m\u001b[1;33m=\u001b[0m\u001b[1;33m(\u001b[0m\u001b[0mh\u001b[0m\u001b[1;33m,\u001b[0m\u001b[0mw\u001b[0m\u001b[1;33m,\u001b[0m\u001b[0mt\u001b[0m\u001b[1;33m)\u001b[0m\u001b[1;33m)\u001b[0m\u001b[1;33m/\u001b[0m\u001b[0mnp\u001b[0m\u001b[1;33m.\u001b[0m\u001b[0msqrt\u001b[0m\u001b[1;33m(\u001b[0m\u001b[0mh\u001b[0m\u001b[1;33m*\u001b[0m\u001b[0mw\u001b[0m\u001b[1;33m)\u001b[0m\u001b[1;33m\u001b[0m\u001b[1;33m\u001b[0m\u001b[0m\n",
      "\u001b[1;31mFile:\u001b[0m      c:\\users\\kelvin\\documents\\github\\hws\\<ipython-input-34-7597fc5c6c80>\n",
      "\u001b[1;31mType:\u001b[0m      function\n"
     ]
    }
   ],
   "source": [
    "kaiming_uniform??"
   ]
  },
  {
   "cell_type": "code",
   "execution_count": null,
   "metadata": {},
   "outputs": [
    {
     "data": {
      "text/plain": [
       "(array([[[1, 2],\n",
       "         [3, 4]],\n",
       " \n",
       "        [[5, 6],\n",
       "         [7, 8]]]),\n",
       " (2, 2, 2),\n",
       " array([[1, 2],\n",
       "        [3, 4]]),\n",
       " array([1, 2]))"
      ]
     },
     "execution_count": null,
     "metadata": {},
     "output_type": "execute_result"
    }
   ],
   "source": [
    "g = np.array([[[1,2],[3,4]],[[5,6],[7,8]]])\n",
    "g, g.shape, g[0], g[0,0]"
   ]
  },
  {
   "cell_type": "code",
   "execution_count": null,
   "metadata": {},
   "outputs": [
    {
     "name": "stdout",
     "output_type": "stream",
     "text": [
      "\u001b[1;31mSignature:\u001b[0m \u001b[0mnaive\u001b[0m\u001b[1;33m(\u001b[0m\u001b[0mf\u001b[0m\u001b[1;33m,\u001b[0m \u001b[0mx\u001b[0m\u001b[1;33m,\u001b[0m \u001b[0mst\u001b[0m\u001b[1;33m=\u001b[0m\u001b[1;36m2\u001b[0m\u001b[1;33m,\u001b[0m \u001b[0mks\u001b[0m\u001b[1;33m=\u001b[0m\u001b[1;36m3\u001b[0m\u001b[1;33m)\u001b[0m\u001b[1;33m\u001b[0m\u001b[1;33m\u001b[0m\u001b[0m\n",
      "\u001b[1;31mDocstring:\u001b[0m <no docstring>\n",
      "\u001b[1;31mSource:\u001b[0m   \n",
      "\u001b[1;32mdef\u001b[0m \u001b[0mnaive\u001b[0m\u001b[1;33m(\u001b[0m\u001b[0mf\u001b[0m\u001b[1;33m,\u001b[0m\u001b[0mx\u001b[0m\u001b[1;33m,\u001b[0m\u001b[0mst\u001b[0m\u001b[1;33m=\u001b[0m\u001b[1;36m2\u001b[0m\u001b[1;33m,\u001b[0m\u001b[0mks\u001b[0m\u001b[1;33m=\u001b[0m\u001b[1;36m3\u001b[0m\u001b[1;33m)\u001b[0m\u001b[1;33m:\u001b[0m\u001b[1;33m\n",
      "\u001b[0m    \u001b[0mout\u001b[0m \u001b[1;33m=\u001b[0m \u001b[0mnp\u001b[0m\u001b[1;33m.\u001b[0m\u001b[0mzeros\u001b[0m\u001b[1;33m(\u001b[0m\u001b[1;33m(\u001b[0m\u001b[1;33m(\u001b[0m\u001b[1;33m(\u001b[0m\u001b[0mx\u001b[0m\u001b[1;33m.\u001b[0m\u001b[0mshape\u001b[0m\u001b[1;33m[\u001b[0m\u001b[1;36m0\u001b[0m\u001b[1;33m]\u001b[0m\u001b[1;33m-\u001b[0m\u001b[0mks\u001b[0m\u001b[1;33m)\u001b[0m\u001b[1;33m//\u001b[0m\u001b[0mst\u001b[0m\u001b[1;33m+\u001b[0m\u001b[1;36m1\u001b[0m\u001b[1;33m)\u001b[0m\u001b[1;33m,\u001b[0m\u001b[1;33m(\u001b[0m\u001b[1;33m(\u001b[0m\u001b[0mx\u001b[0m\u001b[1;33m.\u001b[0m\u001b[0mshape\u001b[0m\u001b[1;33m[\u001b[0m\u001b[1;36m1\u001b[0m\u001b[1;33m]\u001b[0m\u001b[1;33m-\u001b[0m\u001b[0mks\u001b[0m\u001b[1;33m)\u001b[0m\u001b[1;33m//\u001b[0m\u001b[0mst\u001b[0m\u001b[1;33m+\u001b[0m\u001b[1;36m1\u001b[0m\u001b[1;33m)\u001b[0m\u001b[1;33m)\u001b[0m\u001b[1;33m)\u001b[0m\u001b[1;33m\n",
      "\u001b[0m    \u001b[1;32mfor\u001b[0m \u001b[0mi\u001b[0m \u001b[1;32min\u001b[0m \u001b[0mrange\u001b[0m\u001b[1;33m(\u001b[0m\u001b[1;36m0\u001b[0m\u001b[1;33m,\u001b[0m\u001b[0mx\u001b[0m\u001b[1;33m.\u001b[0m\u001b[0mshape\u001b[0m\u001b[1;33m[\u001b[0m\u001b[1;36m0\u001b[0m\u001b[1;33m]\u001b[0m\u001b[1;33m-\u001b[0m\u001b[1;36m1\u001b[0m\u001b[1;33m,\u001b[0m\u001b[0mst\u001b[0m\u001b[1;33m)\u001b[0m\u001b[1;33m:\u001b[0m\u001b[1;33m\n",
      "\u001b[0m        \u001b[1;32mfor\u001b[0m \u001b[0mj\u001b[0m \u001b[1;32min\u001b[0m \u001b[0mrange\u001b[0m\u001b[1;33m(\u001b[0m\u001b[1;36m0\u001b[0m\u001b[1;33m,\u001b[0m\u001b[0mx\u001b[0m\u001b[1;33m.\u001b[0m\u001b[0mshape\u001b[0m\u001b[1;33m[\u001b[0m\u001b[1;36m1\u001b[0m\u001b[1;33m]\u001b[0m\u001b[1;33m-\u001b[0m\u001b[1;36m1\u001b[0m\u001b[1;33m,\u001b[0m\u001b[0mst\u001b[0m\u001b[1;33m)\u001b[0m\u001b[1;33m:\u001b[0m\u001b[1;33m\n",
      "\u001b[0m            \u001b[1;31m# for debug\u001b[0m\u001b[1;33m\n",
      "\u001b[0m            \u001b[1;31m# print(i,\":\",i+ks,\"->\",j,\":\",j+ks)\u001b[0m\u001b[1;33m\n",
      "\u001b[0m            \u001b[1;31m# print(x[i:i+ks,j:j+ks])\u001b[0m\u001b[1;33m\n",
      "\u001b[0m            \u001b[0mout\u001b[0m\u001b[1;33m[\u001b[0m\u001b[0mi\u001b[0m\u001b[1;33m//\u001b[0m\u001b[0mst\u001b[0m\u001b[1;33m,\u001b[0m\u001b[0mj\u001b[0m\u001b[1;33m//\u001b[0m\u001b[0mst\u001b[0m\u001b[1;33m]\u001b[0m \u001b[1;33m=\u001b[0m \u001b[0mnp\u001b[0m\u001b[1;33m.\u001b[0m\u001b[0mmultiply\u001b[0m\u001b[1;33m(\u001b[0m\u001b[0mf\u001b[0m\u001b[1;33m,\u001b[0m\u001b[0mx\u001b[0m\u001b[1;33m[\u001b[0m\u001b[0mi\u001b[0m\u001b[1;33m:\u001b[0m\u001b[0mi\u001b[0m\u001b[1;33m+\u001b[0m\u001b[0mks\u001b[0m\u001b[1;33m,\u001b[0m\u001b[0mj\u001b[0m\u001b[1;33m:\u001b[0m\u001b[0mj\u001b[0m\u001b[1;33m+\u001b[0m\u001b[0mks\u001b[0m\u001b[1;33m]\u001b[0m\u001b[1;33m)\u001b[0m\u001b[1;33m.\u001b[0m\u001b[0msum\u001b[0m\u001b[1;33m(\u001b[0m\u001b[1;33m)\u001b[0m\u001b[1;33m\n",
      "\u001b[0m    \u001b[1;33m\n",
      "\u001b[0m    \u001b[1;32mreturn\u001b[0m \u001b[0mout\u001b[0m\u001b[1;33m\u001b[0m\u001b[1;33m\u001b[0m\u001b[0m\n",
      "\u001b[1;31mFile:\u001b[0m      c:\\users\\kelvin\\documents\\github\\hws\\<ipython-input-28-bc727c568dd3>\n",
      "\u001b[1;31mType:\u001b[0m      function\n"
     ]
    }
   ],
   "source": [
    "naive??"
   ]
  },
  {
   "cell_type": "markdown",
   "metadata": {},
   "source": [
    "### Conv_dump\n",
    "#### written for debugging & testing of Conv class\n",
    "#### TODO:\n",
    "####  \n",
    "####  Adjust the inner/outer loop of forward() (actual ConvOps per se) -> loop thru the input only once (filter-first)"
   ]
  },
  {
   "cell_type": "code",
   "execution_count": null,
   "metadata": {},
   "outputs": [],
   "source": [
    "# export\n",
    "# can be used to test Conv class\n",
    "# add Conv in naive way\n",
    "class Conv_dump:\n",
    "    def __init__(self,filters=1,kernelsize=3,stride=2,padding=0,init_fn=kaiming_uniform):\n",
    "        self.f = init_fn(kernelsize,kernelsize,filters)\n",
    "        self.grad = np.zeros((filters,kernelsize,kernelsize))\n",
    "        self.fpass = None\n",
    "        self.ks = kernelsize\n",
    "        self.st = stride\n",
    "\n",
    "    def forward(self,x):\n",
    "        # pre cache, don't know if it's actually faster compare to refering to self.sth every time\n",
    "        f = self.f\n",
    "        ks = self.ks\n",
    "        st = self.st\n",
    "\n",
    "        out = np.zeros((((x.shape[0]-ks)//st+1),((x.shape[1]-ks)//st+1),f.shape[-1]))\n",
    "        #print(f.shape,f.shape[-1],out.shape)\n",
    "\n",
    "        \"\"\" \n",
    "        About the loop: should try to reduce the time of walking thru input feature\n",
    "        now: loop filters{loop thru input} ## SLOW\n",
    "        faster version will be to loop thru every filter at the inner-est loop, then loop thru input\n",
    "         , which will give us #walking thru = 1\n",
    "        \"\"\"\n",
    "        ## DEBUG\n",
    "        # now, it's slow\n",
    "        for k in range(f.shape[-1]):\n",
    "            out[:,:,k] = naive(f[k],x)\n",
    "\n",
    "        return out\n",
    "\n",
    "    def backward(self,grad):\n",
    "        # transpose weight to calculate gradient ?\n",
    "        return "
   ]
  },
  {
   "cell_type": "code",
   "execution_count": null,
   "metadata": {},
   "outputs": [
    {
     "data": {
      "text/plain": [
       "(27, 27, 1)"
      ]
     },
     "execution_count": null,
     "metadata": {},
     "output_type": "execute_result"
    }
   ],
   "source": [
    "b = np.random.uniform(-1.,1.,size=(27,27,1))\n",
    "b.shape"
   ]
  },
  {
   "cell_type": "code",
   "execution_count": null,
   "metadata": {},
   "outputs": [
    {
     "data": {
      "text/plain": [
       "(13, 13, 1)"
      ]
     },
     "execution_count": null,
     "metadata": {},
     "output_type": "execute_result"
    }
   ],
   "source": [
    "l = Conv_dump()\n",
    "l.forward(b).shape"
   ]
  },
  {
   "cell_type": "code",
   "execution_count": null,
   "metadata": {},
   "outputs": [],
   "source": [
    "from matplotlib import pyplot as plt"
   ]
  },
  {
   "cell_type": "code",
   "execution_count": null,
   "metadata": {},
   "outputs": [
    {
     "data": {
      "text/plain": [
       "<matplotlib.image.AxesImage at 0x1b2b655bc08>"
      ]
     },
     "execution_count": null,
     "metadata": {},
     "output_type": "execute_result"
    },
    {
     "data": {
      "image/png": "[encoded data removed]",
      "text/plain": [
       "<Figure size 432x288 with 1 Axes>"
      ]
     },
     "metadata": {
      "needs_background": "light"
     },
     "output_type": "display_data"
    }
   ],
   "source": [
    "plt.imshow(l.forward(b))"
   ]
  },
  {
   "cell_type": "markdown",
   "metadata": {},
   "source": [
    "### Flatten / unsqueeze"
   ]
  },
  {
   "cell_type": "markdown",
   "metadata": {},
   "source": [
    "#### I don't think this is the right way to do, since it requires way too much conditioning in the model class"
   ]
  },
  {
   "cell_type": "code",
   "execution_count": null,
   "metadata": {},
   "outputs": [],
   "source": [
    "# export\n",
    "# not tested: 90% certain it's correct\n",
    "# we're only use library (numpy) \n",
    "# since it's slow to do computation in pure python\n",
    "class Flatten:\n",
    "    \"\"\"\n",
    "    reshape input to target shape\n",
    "    \"\"\"\n",
    "    def __init__(self):\n",
    "        self.shape=None\n",
    "\n",
    "    def forward(self,x):\n",
    "        \"\"\" \n",
    "        Should consider batch size\n",
    "        image: (h,w,c) -> (b,h,w,c)\n",
    "         flatten: (b,h*w*c)\n",
    "        \n",
    "        otherwise: \n",
    "        (b,d) -> (1, b*d)\n",
    "\n",
    "        \"\"\"\n",
    "        self.shape = x.shape\n",
    "        return x.reshape((1,-1))\n",
    "    \n",
    "    def backward(self,grad):\n",
    "        return grad.reshape(self.shape)"
   ]
  },
  {
   "cell_type": "code",
   "execution_count": null,
   "metadata": {},
   "outputs": [
    {
     "data": {
      "text/plain": [
       "(array([[1, 2],\n",
       "        [3, 4]]),\n",
       " array([[1, 2, 3, 4]]),\n",
       " array([[1, 2],\n",
       "        [3, 4]]))"
      ]
     },
     "execution_count": null,
     "metadata": {},
     "output_type": "execute_result"
    }
   ],
   "source": [
    "x = np.array([[1,2],[3,4]])\n",
    "l = Flatten()\n",
    "x, l.forward(x), l.backward(l.forward(x))"
   ]
  },
  {
   "cell_type": "markdown",
   "metadata": {},
   "source": [
    "### Build CNN here (regular one and pure Conv one)"
   ]
  },
  {
   "cell_type": "code",
   "execution_count": null,
   "metadata": {},
   "outputs": [
    {
     "ename": "TypeError",
     "evalue": "__init__() missing 2 required positional arguments: 'filters' and 'kernelsize'",
     "output_type": "error",
     "traceback": [
      "\u001b[1;31m---------------------------------------------------------------------------\u001b[0m",
      "\u001b[1;31mTypeError\u001b[0m                                 Traceback (most recent call last)",
      "\u001b[1;32m<ipython-input-51-fcc89bbddb86>\u001b[0m in \u001b[0;36m<module>\u001b[1;34m\u001b[0m\n\u001b[1;32m----> 1\u001b[1;33m \u001b[0mcnn_reg\u001b[0m \u001b[1;33m=\u001b[0m \u001b[0mSequential\u001b[0m\u001b[1;33m(\u001b[0m\u001b[1;33m[\u001b[0m\u001b[0mConv\u001b[0m\u001b[1;33m(\u001b[0m\u001b[1;33m)\u001b[0m\u001b[1;33m,\u001b[0m \u001b[0mConv\u001b[0m\u001b[1;33m(\u001b[0m\u001b[1;33m)\u001b[0m\u001b[1;33m,\u001b[0m \u001b[0mFlatten\u001b[0m\u001b[1;33m(\u001b[0m\u001b[1;33m)\u001b[0m\u001b[1;33m,\u001b[0m \u001b[0mLinear\u001b[0m\u001b[1;33m(\u001b[0m\u001b[1;33m)\u001b[0m\u001b[1;33m,\u001b[0m \u001b[0mLinear\u001b[0m\u001b[1;33m(\u001b[0m\u001b[1;33m)\u001b[0m\u001b[1;33m]\u001b[0m\u001b[1;33m)\u001b[0m\u001b[1;33m\u001b[0m\u001b[1;33m\u001b[0m\u001b[0m\n\u001b[0m\u001b[0;32m      2\u001b[0m \u001b[1;33m\u001b[0m\u001b[0m\n",
      "\u001b[1;31mTypeError\u001b[0m: __init__() missing 2 required positional arguments: 'filters' and 'kernelsize'"
     ]
    }
   ],
   "source": [
    "cnn_reg = Sequential([Conv(), Conv(), Flatten(), Linear(), Linear()])\n",
    "\n"
   ]
  },
  {
   "cell_type": "code",
   "execution_count": null,
   "metadata": {},
   "outputs": [],
   "source": []
  },
  {
   "cell_type": "code",
   "execution_count": null,
   "metadata": {},
   "outputs": [],
   "source": [
    "cnn_p = Sequential([Conv(), Conv(), Linear()])\n"
   ]
  },
  {
   "cell_type": "markdown",
   "metadata": {},
   "source": [
    "### Experiment below"
   ]
  },
  {
   "cell_type": "code",
   "execution_count": null,
   "metadata": {},
   "outputs": [],
   "source": [
    "# Tensor class to inherit from\n",
    "# implement context tensor ??\n",
    "class Tensor:\n",
    "    def __init__(self):\n",
    "        self.grad = None\n",
    "    \n",
    "    def unsqueeze():\n",
    "        pass"
   ]
  },
  {
   "cell_type": "markdown",
   "metadata": {},
   "source": [
    "#### Rebuild everything from a lower level\n",
    "#### e.g. a tensor for layers to inherit from that handles backprop"
   ]
  },
  {
   "cell_type": "code",
   "execution_count": null,
   "metadata": {},
   "outputs": [],
   "source": []
  },
  {
   "cell_type": "markdown",
   "metadata": {},
   "source": [
    "### Export"
   ]
  },
  {
   "cell_type": "code",
   "execution_count": null,
   "metadata": {},
   "outputs": [
    {
     "name": "stdout",
     "output_type": "stream",
     "text": [
      "Converted 00_core.ipynb.\n",
      "Converted 01_oval_clean.ipynb.\n",
      "Converted 02_NN.ipynb.\n",
      "Converted 03_NN_numpy.ipynb.\n",
      "Converted index.ipynb.\n"
     ]
    }
   ],
   "source": [
    "from nbdev.export import notebook2script\n",
    "notebook2script()"
   ]
  },
  {
   "cell_type": "code",
   "execution_count": null,
   "metadata": {},
   "outputs": [],
   "source": []
  }
 ],
 "metadata": {
  "kernelspec": {
   "display_name": "Python 3.7.9 64-bit",
   "language": "python",
   "name": "python3"
  }
 },
 "nbformat": 4,
 "nbformat_minor": 2
}
