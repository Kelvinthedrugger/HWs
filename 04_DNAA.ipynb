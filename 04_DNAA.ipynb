{
 "cells": [
  {
   "cell_type": "code",
   "execution_count": null,
   "id": "d2c4c7c4",
   "metadata": {},
   "outputs": [
    {
     "data": {
      "text/plain": [
       "'try to convert the whole thing using the HWs github repo of mine'"
      ]
     },
     "execution_count": null,
     "metadata": {},
     "output_type": "execute_result"
    }
   ],
   "source": [
    "\"\"\"try to convert the whole thing using the HWs github repo of mine\"\"\""
   ]
  },
  {
   "cell_type": "code",
   "execution_count": null,
   "id": "aa386085",
   "metadata": {},
   "outputs": [],
   "source": [
    "#default_exp dnaa"
   ]
  },
  {
   "cell_type": "code",
   "execution_count": null,
   "id": "230c3d0f",
   "metadata": {},
   "outputs": [],
   "source": [
    "from dna import longest_match\n",
    "import csv"
   ]
  },
  {
   "cell_type": "code",
   "execution_count": null,
   "id": "cc98f00f",
   "metadata": {},
   "outputs": [],
   "source": [
    "# e.g., python dna.py databases\\small.csv sequences\\1.txt\n",
    "# should print Bob\n",
    "\n",
    "# skip cmd line input checking for now\n",
    "\n",
    "# read database (name and fragment chart)\n",
    "\n",
    "# with open('databases\\small.csv', 'r') as f1:\n",
    "#     people = f1.read() # str"
   ]
  },
  {
   "cell_type": "code",
   "execution_count": null,
   "id": "268a4d37",
   "metadata": {},
   "outputs": [],
   "source": [
    "#export\n",
    "people = {}        "
   ]
  },
  {
   "cell_type": "code",
   "execution_count": null,
   "id": "f1d6a2db",
   "metadata": {},
   "outputs": [],
   "source": [
    "#export\n",
    "with open('databases\\small.csv', 'r', newline='') as f1:\n",
    "    reader = csv.DictReader(f1)\n",
    "    for row in reader:\n",
    "        #print(row['name'])\n",
    "        people[row['name']] = row"
   ]
  },
  {
   "cell_type": "code",
   "execution_count": null,
   "id": "cdea2619",
   "metadata": {},
   "outputs": [
    {
     "data": {
      "text/plain": [
       "{'Alice': OrderedDict([('name', 'Alice'),\n",
       "              ('AGATC', '2'),\n",
       "              ('AATG', '8'),\n",
       "              ('TATC', '3')]),\n",
       " 'Bob': OrderedDict([('name', 'Bob'),\n",
       "              ('AGATC', '4'),\n",
       "              ('AATG', '1'),\n",
       "              ('TATC', '5')]),\n",
       " 'Charlie': OrderedDict([('name', 'Charlie'),\n",
       "              ('AGATC', '3'),\n",
       "              ('AATG', '2'),\n",
       "              ('TATC', '5')])}"
      ]
     },
     "execution_count": null,
     "metadata": {},
     "output_type": "execute_result"
    }
   ],
   "source": [
    "people"
   ]
  },
  {
   "cell_type": "code",
   "execution_count": null,
   "id": "a308be68",
   "metadata": {},
   "outputs": [],
   "source": [
    "#export\n",
    "data = \"\"\n",
    "with open('sequences\\\\1.txt', 'r') as f1:\n",
    "    data = f1.read()\n",
    "f1.close()\n",
    "#print(data, type(data))"
   ]
  },
  {
   "cell_type": "code",
   "execution_count": null,
   "id": "6e224055",
   "metadata": {},
   "outputs": [],
   "source": [
    "#longest_match(data,'AGATC'), would print 4 for 1.txt and small.csv"
   ]
  },
  {
   "cell_type": "code",
   "execution_count": null,
   "id": "472cb788",
   "metadata": {},
   "outputs": [
    {
     "data": {
      "text/plain": [
       "'name'"
      ]
     },
     "execution_count": null,
     "metadata": {},
     "output_type": "execute_result"
    }
   ],
   "source": [
    "#export\n",
    "frags = [] # name of dna fragments\n",
    "# get the first name to get the list of name of dna fragments\n",
    "for pplname in people: \n",
    "    break\n",
    "# below would print: # for small.csv\n",
    "# name <class 'str'>\n",
    "# AGATC <class 'str'>\n",
    "# AATG <class 'str'>\n",
    "# TATC <class 'str'>\n",
    "for ele in list(people[pplname]):\n",
    "    #print(ele, type(ele))\n",
    "    frags.append(ele)\n",
    "frags.pop(0) # get rid of the 'name'\n",
    "#print(frags)\n",
    "#['AGATC', 'AATG', 'TATC']"
   ]
  },
  {
   "cell_type": "code",
   "execution_count": null,
   "id": "8c19f8b3",
   "metadata": {},
   "outputs": [
    {
     "name": "stdout",
     "output_type": "stream",
     "text": [
      "Bob\n"
     ]
    }
   ],
   "source": [
    "#export\n",
    "# Succeeded, stupid str() to int() conversion\n",
    "\n",
    "def checkppl(people, pplname, dnas, data):\n",
    "    for ele in dnas:\n",
    "        # cache the key instead of convert it every time\n",
    "        key = str(longest_match(data,ele))\n",
    "        if people[pplname][ele] != key:\n",
    "            return False\n",
    "    return True\n",
    "\n",
    "for pplname in people:\n",
    "    if checkppl(people, pplname, frags, data):\n",
    "        print(pplname)\n",
    "        break # since there would be only one match as the problem suggested"
   ]
  },
  {
   "cell_type": "code",
   "execution_count": null,
   "id": "6c4838bb",
   "metadata": {},
   "outputs": [],
   "source": []
  },
  {
   "cell_type": "code",
   "execution_count": null,
   "id": "34cd653d",
   "metadata": {},
   "outputs": [],
   "source": []
  }
 ],
 "metadata": {
  "kernelspec": {
   "display_name": "Python 3",
   "language": "python",
   "name": "python3"
  }
 },
 "nbformat": 4,
 "nbformat_minor": 5
}
